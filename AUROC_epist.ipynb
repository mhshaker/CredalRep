{
 "cells": [
  {
   "cell_type": "code",
   "execution_count": 1,
   "source": [
    "run_name   = \"epist_roc\"\n",
    "# data_list  = [\"parkinsons\",\"vertebral\",\"breast\",\"climate\", \"ionosphere\", \"blod\", \"bank\", \"QSAR\", \"spambase\"] \n",
    "data_list = [\"fashionMnist\"]"
   ],
   "outputs": [],
   "metadata": {}
  },
  {
   "cell_type": "code",
   "execution_count": 2,
   "source": [
    "import res_AUROC as roc\n",
    "from IPython.display import display\n",
    "\n",
    "for data in data_list:\n",
    "    # query = f\"SELECT results, id , prams, result_type FROM experiments Where task='epist' AND dataset='Jdata/{data}' AND run_name='{run_name}'\"\n",
    "    query = f\"SELECT results, id , prams, result_type FROM experiments Where task='unc' AND id=5816 OR id=5817\"\n",
    "\n",
    "    res = roc.create_roc_table(data_list, query, \"epsilon\", epist_exp=True)\n",
    "    print(f\"-------------------------------------------------------------------------------------- {data}\")\n",
    "    display(res[0].style.apply(roc.highlight_max_min))"
   ],
   "outputs": [
    {
     "output_type": "stream",
     "name": "stdout",
     "text": [
      "-------------------------------------------------------------------------------------- fashionMnist\n"
     ]
    },
    {
     "output_type": "display_data",
     "data": {
      "text/html": [
       "<style type=\"text/css\">\n",
       "#T_785b3_row0_col5, #T_785b3_row0_col6, #T_785b3_row0_col7, #T_785b3_row1_col2, #T_785b3_row1_col4, #T_785b3_row2_col3 {\n",
       "  background: gray;\n",
       "}\n",
       "</style>\n",
       "<table id=\"T_785b3_\">\n",
       "  <thead>\n",
       "    <tr>\n",
       "      <th class=\"blank level0\" >&nbsp;</th>\n",
       "      <th class=\"col_heading level0 col0\" >Method</th>\n",
       "      <th class=\"col_heading level0 col1\" >Parameter</th>\n",
       "      <th class=\"col_heading level0 col2\" >Epistemic</th>\n",
       "      <th class=\"col_heading level0 col3\" >Aleatoric</th>\n",
       "      <th class=\"col_heading level0 col4\" >Total</th>\n",
       "      <th class=\"col_heading level0 col5\" >e_sd</th>\n",
       "      <th class=\"col_heading level0 col6\" >a_sd</th>\n",
       "      <th class=\"col_heading level0 col7\" >t_sd</th>\n",
       "    </tr>\n",
       "    <tr>\n",
       "      <th class=\"index_name level0\" >job_id</th>\n",
       "      <th class=\"blank col0\" >&nbsp;</th>\n",
       "      <th class=\"blank col1\" >&nbsp;</th>\n",
       "      <th class=\"blank col2\" >&nbsp;</th>\n",
       "      <th class=\"blank col3\" >&nbsp;</th>\n",
       "      <th class=\"blank col4\" >&nbsp;</th>\n",
       "      <th class=\"blank col5\" >&nbsp;</th>\n",
       "      <th class=\"blank col6\" >&nbsp;</th>\n",
       "      <th class=\"blank col7\" >&nbsp;</th>\n",
       "    </tr>\n",
       "  </thead>\n",
       "  <tbody>\n",
       "    <tr>\n",
       "      <th id=\"T_785b3_level0_row0\" class=\"row_heading level0 row0\" >5604</th>\n",
       "      <td id=\"T_785b3_row0_col0\" class=\"data row0 col0\" >set18</td>\n",
       "      <td id=\"T_785b3_row0_col1\" class=\"data row0 col1\" >1.010000</td>\n",
       "      <td id=\"T_785b3_row0_col2\" class=\"data row0 col2\" >0.125089</td>\n",
       "      <td id=\"T_785b3_row0_col3\" class=\"data row0 col3\" >0.117202</td>\n",
       "      <td id=\"T_785b3_row0_col4\" class=\"data row0 col4\" >0.117417</td>\n",
       "      <td id=\"T_785b3_row0_col5\" class=\"data row0 col5\" >0.101282</td>\n",
       "      <td id=\"T_785b3_row0_col6\" class=\"data row0 col6\" >0.098577</td>\n",
       "      <td id=\"T_785b3_row0_col7\" class=\"data row0 col7\" >0.098860</td>\n",
       "    </tr>\n",
       "    <tr>\n",
       "      <th id=\"T_785b3_level0_row1\" class=\"row_heading level0 row1\" >5816</th>\n",
       "      <td id=\"T_785b3_row1_col0\" class=\"data row1 col0\" >bays</td>\n",
       "      <td id=\"T_785b3_row1_col1\" class=\"data row1 col1\" >1.010000</td>\n",
       "      <td id=\"T_785b3_row1_col2\" class=\"data row1 col2\" >0.752139</td>\n",
       "      <td id=\"T_785b3_row1_col3\" class=\"data row1 col3\" >0.709555</td>\n",
       "      <td id=\"T_785b3_row1_col4\" class=\"data row1 col4\" >0.740378</td>\n",
       "      <td id=\"T_785b3_row1_col5\" class=\"data row1 col5\" >0.183332</td>\n",
       "      <td id=\"T_785b3_row1_col6\" class=\"data row1 col6\" >0.191894</td>\n",
       "      <td id=\"T_785b3_row1_col7\" class=\"data row1 col7\" >0.195049</td>\n",
       "    </tr>\n",
       "    <tr>\n",
       "      <th id=\"T_785b3_level0_row2\" class=\"row_heading level0 row2\" >5817</th>\n",
       "      <td id=\"T_785b3_row2_col0\" class=\"data row2 col0\" >set18</td>\n",
       "      <td id=\"T_785b3_row2_col1\" class=\"data row2 col1\" >1.010000</td>\n",
       "      <td id=\"T_785b3_row2_col2\" class=\"data row2 col2\" >0.732755</td>\n",
       "      <td id=\"T_785b3_row2_col3\" class=\"data row2 col3\" >0.732960</td>\n",
       "      <td id=\"T_785b3_row2_col4\" class=\"data row2 col4\" >0.733001</td>\n",
       "      <td id=\"T_785b3_row2_col5\" class=\"data row2 col5\" >0.189999</td>\n",
       "      <td id=\"T_785b3_row2_col6\" class=\"data row2 col6\" >0.196389</td>\n",
       "      <td id=\"T_785b3_row2_col7\" class=\"data row2 col7\" >0.196376</td>\n",
       "    </tr>\n",
       "  </tbody>\n",
       "</table>\n"
      ],
      "text/plain": [
       "<pandas.io.formats.style.Styler at 0x7f7ce2f33850>"
      ]
     },
     "metadata": {}
    }
   ],
   "metadata": {}
  }
 ],
 "metadata": {
  "orig_nbformat": 4,
  "language_info": {
   "name": "python",
   "version": "3.8.10",
   "mimetype": "text/x-python",
   "codemirror_mode": {
    "name": "ipython",
    "version": 3
   },
   "pygments_lexer": "ipython3",
   "nbconvert_exporter": "python",
   "file_extension": ".py"
  },
  "kernelspec": {
   "name": "python3",
   "display_name": "Python 3.8.10 64-bit ('CredalRep-DeMpM6ew': pipenv)"
  },
  "interpreter": {
   "hash": "9d5dcd61cd15fb74c8b6a45ddb6cae8e0fc889643ee4c9bed5569bb4f5ea9670"
  }
 },
 "nbformat": 4,
 "nbformat_minor": 2
}